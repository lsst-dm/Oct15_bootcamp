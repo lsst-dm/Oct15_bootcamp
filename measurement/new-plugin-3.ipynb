{
 "cells": [
  {
   "cell_type": "code",
   "execution_count": 1,
   "metadata": {
    "collapsed": true
   },
   "outputs": [],
   "source": [
    "import numpy\n",
    "import lsst.meas.base\n",
    "import lsst.pex.config\n",
    "import lsst.afw.table\n",
    "import lsst.meas.algorithms\n",
    "import lsst.meas.deblender\n",
    "import lsst.pex.exceptions"
   ]
  },
  {
   "cell_type": "code",
   "execution_count": 2,
   "metadata": {
    "collapsed": false
   },
   "outputs": [],
   "source": [
    "class BoxFluxConfig(lsst.meas.base.SingleFramePluginConfig):\n",
    "    \n",
    "    width = lsst.pex.config.Field(\n",
    "        dtype=int, default=30,\n",
    "        doc=\"approximate width of rectangular aperture\"\n",
    "    )\n",
    "\n",
    "    height = lsst.pex.config.Field(\n",
    "        dtype=int, default=30,\n",
    "        doc=\"approximate height of rectangular aperture\"\n",
    "    )\n",
    "\n",
    "    \n",
    "class BoxFluxTransform(lsst.meas.base.FluxTransform):\n",
    "\n",
    "    def __init__(self, config, name, mapper):\n",
    "        lsst.meas.base.FluxTransform.__init__(self, name, mapper)\n",
    "        mapper.addMapping(mapper.getInputSchema().find(name + \"_flag_edge\").key)\n",
    "\n",
    "        \n",
    "@lsst.meas.base.register(\"ext_BoxFlux\")\n",
    "class BoxFluxPlugin(lsst.meas.base.SingleFramePlugin):\n",
    "\n",
    "    ConfigClass = BoxFluxConfig\n",
    "    \n",
    "    FAILURE_EDGE = 1\n",
    "\n",
    "    @classmethod\n",
    "    def getExecutionOrder(cls):\n",
    "        return cls.FLUX_ORDER\n",
    "\n",
    "    @classmethod\n",
    "    def getTransformClass(cls):\n",
    "        return BoxFluxTransform\n",
    "    \n",
    "    def __init__(self, config, name, schema, metadata):\n",
    "        lsst.meas.base.SingleFramePlugin.__init__(self, config, name, schema, metadata)\n",
    "\n",
    "        # Get a FunctorKey that can quickly look up the \"blessed\" centroid value.\n",
    "        self.centroidKey = lsst.afw.table.Point2DKey(schema[\"slot_Centroid\"])\n",
    "\n",
    "        # Add some fields for our outputs, and save their Keys.\n",
    "        doc = \"flux in a {0.width} x {0.height} rectangle\".format(self.config)\n",
    "        self.fluxKey = schema.addField(\n",
    "            schema.join(name, \"flux\"), type=float, units=\"dn\", doc=doc\n",
    "        )\n",
    "        self.fluxSigmaKey = schema.addField(\n",
    "            schema.join(name, \"fluxSigma\"), type=float, units=\"dn\",\n",
    "            doc=\"1-sigma uncertainty for BoxFlux\"\n",
    "        )\n",
    "        self.flagKey = schema.addField(\n",
    "            schema.join(name, \"flag\"), type=\"Flag\",\n",
    "            doc=\"general failure flag for BoxFlux\"\n",
    "        )\n",
    "        self.edgeFlagKey = schema.addField(\n",
    "            schema.join(name, \"flag\", \"edge\"), type=\"Flag\",\n",
    "            doc=\"flag set when rectangle used by BoxFlux doesn't fit in the image\"\n",
    "        )\n",
    "    \n",
    "    \n",
    "    def measure(self, measRecord, exposure):\n",
    "\n",
    "        centroid = measRecord.get(self.centroidKey)\n",
    "    \n",
    "        # Create a single-pixel box\n",
    "        point = lsst.afw.geom.Point2I(centroid)\n",
    "        box = lsst.afw.geom.Box2I(point, point)\n",
    "\n",
    "        # Grow the box in the desired size\n",
    "        box.grow(lsst.afw.geom.Extent2I(self.config.width // 2, self.config.height // 2))\n",
    "\n",
    "        # Horrible syntax to create a subimage.  Can't use [] because it doesn't pay\n",
    "        # attention to xy0 :-(\n",
    "        try: \n",
    "            subMaskedImage = exposure.getMaskedImage().Factory(\n",
    "                exposure.getMaskedImage(),\n",
    "                box,\n",
    "                lsst.afw.image.PARENT\n",
    "            )\n",
    "        except lsst.pex.exceptions.LengthError as err:\n",
    "            raise lsst.meas.base.MeasurementError(str(err), self.FAILURE_EDGE)\n",
    "\n",
    "        # compute the flux by extracting and summing NumPy arrays.\n",
    "        flux = subMaskedImage.getImage().getArray().sum()\n",
    "        fluxSigma = subMaskedImage.getVariance().getArray().sum()**0.5\n",
    "\n",
    "        measRecord[self.fluxKey] = flux\n",
    "        measRecord[self.fluxSigmaKey] = fluxSigma\n",
    "        \n",
    "        \n",
    "    def fail(self, measRecord, error=None):\n",
    "        measRecord.set(self.flagKey, True)\n",
    "        if error is not None:\n",
    "            assert error.getFlagBit() == self.FAILURE_EDGE\n",
    "            measRecord.set(self.edgeFlagKey, True)\n",
    "            "
   ]
  },
  {
   "cell_type": "code",
   "execution_count": 3,
   "metadata": {
    "collapsed": false
   },
   "outputs": [],
   "source": [
    "schema = lsst.afw.table.SourceTable.makeMinimalSchema()\n",
    "detectConfig = lsst.meas.algorithms.SourceDetectionConfig()\n",
    "detectConfig.returnOriginalFootprints = False\n",
    "detectConfig.thresholdValue = 10\n",
    "detectTask = lsst.meas.algorithms.SourceDetectionTask(config=detectConfig, schema=schema)\n",
    "deblendTask = lsst.meas.deblender.SourceDeblendTask(schema=schema)"
   ]
  },
  {
   "cell_type": "code",
   "execution_count": 4,
   "metadata": {
    "collapsed": false
   },
   "outputs": [],
   "source": [
    "measureConfig = lsst.meas.base.SingleFrameMeasurementConfig()\n",
    "measureConfig.plugins.names.add(\"ext_BoxFlux\")\n",
    "measureTask = lsst.meas.base.SingleFrameMeasurementTask(config=measureConfig, schema=schema)"
   ]
  },
  {
   "cell_type": "code",
   "execution_count": 5,
   "metadata": {
    "collapsed": false
   },
   "outputs": [],
   "source": [
    "exposure = lsst.afw.image.ExposureF(\"coadd.fits\") \n",
    "table = lsst.afw.table.SourceTable.make(schema)\n",
    "detectResult = detectTask.run(table, exposure)\n",
    "catalog = detectResult.sources\n",
    "deblendTask.run(exposure, catalog, psf=exposure.getPsf())\n",
    "measureTask.run(catalog, exposure)"
   ]
  },
  {
   "cell_type": "code",
   "execution_count": 6,
   "metadata": {
    "collapsed": true
   },
   "outputs": [],
   "source": [
    "from lsst.pipe.tasks.transformMeasurement import TransformTask"
   ]
  },
  {
   "cell_type": "code",
   "execution_count": 7,
   "metadata": {
    "collapsed": false
   },
   "outputs": [],
   "source": [
    "transformTask = TransformTask(measureConfig, catalog.schema, \"src\")\n",
    "transformedCatalog = transformTask.run(catalog, exposure.getWcs(), exposure.getCalib())"
   ]
  },
  {
   "cell_type": "code",
   "execution_count": 8,
   "metadata": {
    "collapsed": false
   },
   "outputs": [
    {
     "name": "stdout",
     "output_type": "stream",
     "text": [
      "{'ext_BoxFlux_flux': nan, 'ext_BoxFlux_fluxSigma': nan, 'ext_BoxFlux_flag': True, 'ext_BoxFlux_flag_edge': True} {'ext_BoxFlux_magErr': nan, 'ext_BoxFlux_flag': True, 'ext_BoxFlux_flag_edge': True, 'ext_BoxFlux_mag': nan}\n",
      "{'ext_BoxFlux_flux': 6.820344924926758, 'ext_BoxFlux_fluxSigma': 0.785162323126388, 'ext_BoxFlux_flag': False, 'ext_BoxFlux_flag_edge': False} {'ext_BoxFlux_magErr': 0.1249906229397152, 'ext_BoxFlux_flag': False, 'ext_BoxFlux_flag_edge': False, 'ext_BoxFlux_mag': 24.91548415309326}\n",
      "{'ext_BoxFlux_flux': 180.74533081054688, 'ext_BoxFlux_fluxSigma': 0.7971855755120664, 'ext_BoxFlux_flag': False, 'ext_BoxFlux_flag_edge': False} {'ext_BoxFlux_magErr': 0.004788689352930662, 'ext_BoxFlux_flag': False, 'ext_BoxFlux_flag_edge': False, 'ext_BoxFlux_mag': 21.357332282516587}\n",
      "{'ext_BoxFlux_flux': 135.76541137695312, 'ext_BoxFlux_fluxSigma': 0.7971855755120664, 'ext_BoxFlux_flag': False, 'ext_BoxFlux_flag_edge': False} {'ext_BoxFlux_magErr': 0.006375211716047766, 'ext_BoxFlux_flag': False, 'ext_BoxFlux_flag_edge': False, 'ext_BoxFlux_mag': 21.66802715027646}\n",
      "{'ext_BoxFlux_flux': 52.22652053833008, 'ext_BoxFlux_fluxSigma': 0.7991651649447729, 'ext_BoxFlux_flag': False, 'ext_BoxFlux_flag_edge': False} {'ext_BoxFlux_magErr': 0.01661383037235331, 'ext_BoxFlux_flag': False, 'ext_BoxFlux_flag_edge': False, 'ext_BoxFlux_mag': 22.70527226746472}\n"
     ]
    }
   ],
   "source": [
    "for r1, r2 in zip(catalog, transformedCatalog):\n",
    "    print r1.extract(\"ext_BoxFlux*\"), r2.extract(\"ext_BoxFlux*\")"
   ]
  },
  {
   "cell_type": "code",
   "execution_count": null,
   "metadata": {
    "collapsed": true
   },
   "outputs": [],
   "source": []
  }
 ],
 "metadata": {
  "kernelspec": {
   "display_name": "Python 2",
   "language": "python",
   "name": "python2"
  },
  "language_info": {
   "codemirror_mode": {
    "name": "ipython",
    "version": 2
   },
   "file_extension": ".py",
   "mimetype": "text/x-python",
   "name": "python",
   "nbconvert_exporter": "python",
   "pygments_lexer": "ipython2",
   "version": "2.7.6"
  }
 },
 "nbformat": 4,
 "nbformat_minor": 0
}
