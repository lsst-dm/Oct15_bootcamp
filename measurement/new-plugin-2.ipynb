{
 "cells": [
  {
   "cell_type": "code",
   "execution_count": 1,
   "metadata": {
    "collapsed": true
   },
   "outputs": [],
   "source": [
    "import numpy\n",
    "import lsst.meas.base\n",
    "import lsst.pex.config\n",
    "import lsst.afw.table\n",
    "import lsst.meas.algorithms\n",
    "import lsst.meas.deblender\n",
    "import lsst.pex.exceptions"
   ]
  },
  {
   "cell_type": "code",
   "execution_count": 2,
   "metadata": {
    "collapsed": false
   },
   "outputs": [],
   "source": [
    "class BoxFluxConfig(lsst.meas.base.SingleFramePluginConfig):\n",
    "    \n",
    "    width = lsst.pex.config.Field(\n",
    "        dtype=int, default=50,\n",
    "        doc=\"approximate width of rectangular aperture\"\n",
    "    )\n",
    "\n",
    "    height = lsst.pex.config.Field(\n",
    "        dtype=int, default=50,\n",
    "        doc=\"approximate height of rectangular aperture\"\n",
    "    )\n",
    "\n",
    "    \n",
    "@lsst.meas.base.register(\"ext_BoxFlux\")\n",
    "class BoxFluxPlugin(lsst.meas.base.SingleFramePlugin):\n",
    "\n",
    "    ConfigClass = BoxFluxConfig\n",
    "    \n",
    "    FAILURE_EDGE = 1\n",
    "\n",
    "    @classmethod\n",
    "    def getExecutionOrder(cls):\n",
    "        return cls.FLUX_ORDER\n",
    "\n",
    "    \n",
    "    def __init__(self, config, name, schema, metadata):\n",
    "        lsst.meas.base.SingleFramePlugin.__init__(self, config, name, schema, metadata)\n",
    "\n",
    "        # Get a FunctorKey that can quickly look up the \"blessed\" centroid value.\n",
    "        self.centroidKey = lsst.afw.table.Point2DKey(schema[\"slot_Centroid\"])\n",
    "\n",
    "        # Add some fields for our outputs, and save their Keys.\n",
    "        doc = \"flux in a {0.width} x {0.height} rectangle\".format(self.config)\n",
    "        self.fluxKey = schema.addField(\n",
    "            schema.join(name, \"flux\"), type=float, units=\"dn\", doc=doc\n",
    "        )\n",
    "        self.fluxSigmaKey = schema.addField(\n",
    "            schema.join(name, \"fluxSigma\"), type=float, units=\"dn\",\n",
    "            doc=\"1-sigma uncertainty for BoxFlux\"\n",
    "        )\n",
    "        self.flagKey = schema.addField(\n",
    "            schema.join(name, \"flag\"), type=\"Flag\",\n",
    "            doc=\"general failure flag for BoxFlux\"\n",
    "        )\n",
    "        self.edgeFlagKey = schema.addField(\n",
    "            schema.join(name, \"flag\", \"edge\"), type=\"Flag\",\n",
    "            doc=\"flag set when rectangle used by BoxFlux doesn't fit in the image\"\n",
    "        )\n",
    "    \n",
    "    \n",
    "    def measure(self, measRecord, exposure):\n",
    "\n",
    "        centroid = measRecord.get(self.centroidKey)\n",
    "    \n",
    "        # Create a single-pixel box\n",
    "        point = lsst.afw.geom.Point2I(centroid)\n",
    "        box = lsst.afw.geom.Box2I(point, point)\n",
    "\n",
    "        # Grow the box in the desired size\n",
    "        box.grow(lsst.afw.geom.Extent2I(self.config.width // 2, self.config.height // 2))\n",
    "\n",
    "        # Horrible syntax to create a subimage.  Can't use [] because it doesn't pay\n",
    "        # attention to xy0 :-(\n",
    "        subMaskedImage = exposure.getMaskedImage().Factory(\n",
    "            exposure.getMaskedImage(),\n",
    "            box,\n",
    "            lsst.afw.image.PARENT\n",
    "        )\n",
    "            \n",
    "        # compute the flux by extracting and summing NumPy arrays.\n",
    "        flux = subMaskedImage.getImage().getArray().sum()\n",
    "        fluxSigma = subMaskedImage.getVariance().getArray().sum()**0.5\n",
    "\n",
    "        measRecord[self.fluxKey] = flux\n",
    "        measRecord[self.fluxSigmaKey] = fluxSigma\n",
    "        \n",
    "        \n",
    "    def fail(self, measRecord, error=None):\n",
    "        measRecord.set(self.flagKey, True)\n",
    "        if error is not None:\n",
    "            assert error.getFlagBit() == self.FAILURE_EDGE\n",
    "            measRecord.set(self.edgeFlagKey, True)\n",
    "            "
   ]
  },
  {
   "cell_type": "code",
   "execution_count": 8,
   "metadata": {
    "collapsed": false
   },
   "outputs": [],
   "source": [
    "schema = lsst.afw.table.SourceTable.makeMinimalSchema()\n",
    "detectConfig = lsst.meas.algorithms.SourceDetectionConfig()\n",
    "detectConfig.returnOriginalFootprints = False\n",
    "detectConfig.thresholdValue = 10\n",
    "detectTask = lsst.meas.algorithms.SourceDetectionTask(config=detectConfig, schema=schema)\n",
    "deblendTask = lsst.meas.deblender.SourceDeblendTask(schema=schema)"
   ]
  },
  {
   "cell_type": "code",
   "execution_count": 9,
   "metadata": {
    "collapsed": false
   },
   "outputs": [],
   "source": [
    "measureConfig = lsst.meas.base.SingleFrameMeasurementConfig()\n",
    "measureConfig.plugins.names.add(\"ext_BoxFlux\")\n",
    "measureTask = lsst.meas.base.SingleFrameMeasurementTask(config=measureConfig, schema=schema)"
   ]
  },
  {
   "cell_type": "code",
   "execution_count": 10,
   "metadata": {
    "collapsed": false
   },
   "outputs": [],
   "source": [
    "exposure = lsst.afw.image.ExposureF(\"coadd.fits\") \n",
    "table = lsst.afw.table.SourceTable.make(schema)\n",
    "detectResult = detectTask.run(table, exposure)\n",
    "catalog = detectResult.sources\n",
    "deblendTask.run(exposure, catalog, psf=exposure.getPsf())\n",
    "measureTask.run(catalog, exposure)"
   ]
  },
  {
   "cell_type": "code",
   "execution_count": null,
   "metadata": {
    "collapsed": true
   },
   "outputs": [],
   "source": []
  }
 ],
 "metadata": {
  "kernelspec": {
   "display_name": "Python 2",
   "language": "python",
   "name": "python2"
  },
  "language_info": {
   "codemirror_mode": {
    "name": "ipython",
    "version": 2
   },
   "file_extension": ".py",
   "mimetype": "text/x-python",
   "name": "python",
   "nbconvert_exporter": "python",
   "pygments_lexer": "ipython2",
   "version": "2.7.6"
  }
 },
 "nbformat": 4,
 "nbformat_minor": 0
}
