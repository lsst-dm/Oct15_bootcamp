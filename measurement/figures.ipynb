{
 "cells": [
  {
   "cell_type": "code",
   "execution_count": 5,
   "metadata": {
    "collapsed": false
   },
   "outputs": [],
   "source": [
    "import numpy\n",
    "import lsst.afw.table\n",
    "import lsst.afw.image\n",
    "import lsst.afw.detection\n",
    "import lsst.meas.algorithms\n",
    "import lsst.meas.base\n",
    "import lsst.meas.deblender"
   ]
  },
  {
   "cell_type": "code",
   "execution_count": 6,
   "metadata": {
    "collapsed": true
   },
   "outputs": [],
   "source": [
    "import lsst.afw.display"
   ]
  },
  {
   "cell_type": "code",
   "execution_count": 7,
   "metadata": {
    "collapsed": false
   },
   "outputs": [],
   "source": [
    "schema = lsst.afw.table.SourceTable.makeMinimalSchema()\n",
    "detectConfig = lsst.meas.algorithms.SourceDetectionConfig()\n",
    "detectConfig.returnOriginalFootprints = False\n",
    "detectConfig.thresholdValue = 10\n",
    "detectTask = lsst.meas.algorithms.SourceDetectionTask(config=detectConfig, schema=schema)\n",
    "deblendTask = lsst.meas.deblender.SourceDeblendTask(schema=schema)"
   ]
  },
  {
   "cell_type": "code",
   "execution_count": 8,
   "metadata": {
    "collapsed": false
   },
   "outputs": [],
   "source": [
    "measureConfig = lsst.meas.base.SingleFrameMeasurementConfig()\n",
    "measureConfig.plugins.names.remove(\"base_GaussianCentroid\")\n",
    "import lsst.meas.modelfit\n",
    "measureConfig.plugins.names |= [\"modelfit_ShapeletPsfApprox\", \"modelfit_CModel\"]\n",
    "measureConfig.slots.modelFlux = \"modelfit_CModel\"\n",
    "measureConfig.plugins[\"base_ClassificationExtendedness\"].fluxRatio = 0.985\n",
    "measureTask = lsst.meas.base.SingleFrameMeasurementTask(schema=schema)"
   ]
  },
  {
   "cell_type": "code",
   "execution_count": 9,
   "metadata": {
    "collapsed": true
   },
   "outputs": [],
   "source": [
    "exposure = lsst.afw.image.ExposureF(\"coadd.fits\")"
   ]
  },
  {
   "cell_type": "code",
   "execution_count": 10,
   "metadata": {
    "collapsed": false
   },
   "outputs": [],
   "source": [
    "# Run detetion\n",
    "table = lsst.afw.table.SourceTable.make(schema)\n",
    "detectResult = detectTask.run(table, exposure)\n",
    "catalog = detectResult.sources"
   ]
  },
  {
   "cell_type": "code",
   "execution_count": 11,
   "metadata": {
    "collapsed": false
   },
   "outputs": [],
   "source": [
    "# Remove the edge mask, since it just clutters up the figures.\n",
    "mask = exposure.getMaskedImage().getMask()\n",
    "mask.clearMaskPlane(mask.getMaskPlane(\"EDGE\"))"
   ]
  },
  {
   "cell_type": "code",
   "execution_count": 14,
   "metadata": {
    "collapsed": false,
    "scrolled": true
   },
   "outputs": [
    {
     "name": "stdout",
     "output_type": "stream",
     "text": [
      "1 0 0\n",
      "2 0 0\n",
      "3 0 2\n",
      "4 3 0\n",
      "5 3 0\n"
     ]
    }
   ],
   "source": [
    "# Display the post-detection image, and show all Peaks (Footprints automatically indicated by mask plane)\n",
    "display = lsst.afw.display.getDisplay(frame=0)\n",
    "display.setMaskTransparency(80)\n",
    "display.mtv(exposure)\n",
    "with display.Buffering():\n",
    "    for record in catalog:\n",
    "        for peak in record.getFootprint().getPeaks():\n",
    "            display.dot(\"+\", peak.getIx(), peak.getIy(), origin=lsst.afw.image.PARENT)\n",
    "        print record.get(\"id\"), record.get(\"parent\"), record.get(\"deblend_nChild\")"
   ]
  },
  {
   "cell_type": "code",
   "execution_count": 15,
   "metadata": {
    "collapsed": false
   },
   "outputs": [],
   "source": [
    "# Run deblender\n",
    "deblendTask.run(exposure, catalog, psf=exposure.getPsf())"
   ]
  },
  {
   "cell_type": "code",
   "execution_count": 16,
   "metadata": {
    "collapsed": false
   },
   "outputs": [
    {
     "name": "stdout",
     "output_type": "stream",
     "text": [
      "1 0 0\n",
      "2 0 0\n",
      "3 0 2\n",
      "4 3 0\n",
      "5 3 0\n",
      "6 3 0\n",
      "7 3 0\n"
     ]
    }
   ],
   "source": [
    "# Display the post-deblend HeavyFootprints\n",
    "n = 1\n",
    "for record in catalog:\n",
    "    display = lsst.afw.display.getDisplay(frame=n)\n",
    "    image = lsst.afw.image.ImageF(exposure.getBBox())\n",
    "    image.getArray()[:,:] = numpy.nan\n",
    "    footprint = record.getFootprint()\n",
    "    if record.get(\"parent\") == 0:\n",
    "        array = numpy.zeros(footprint.getArea(), dtype=numpy.float32)\n",
    "        lsst.afw.detection.flattenArray(footprint, exposure.getMaskedImage().getImage().getArray(),\n",
    "                                        array, exposure.getXY0())\n",
    "        lsst.afw.detection.expandArray(footprint, array, image.getArray(), image.getXY0())\n",
    "    else:\n",
    "        heavy = lsst.afw.detection.HeavyFootprintF.cast(footprint)\n",
    "        heavy.insert(image)\n",
    "    display.mtv(image)\n",
    "    print record.get(\"id\"), record.get(\"parent\"), record.get(\"deblend_nChild\")\n",
    "    n += 1"
   ]
  },
  {
   "cell_type": "code",
   "execution_count": 17,
   "metadata": {
    "collapsed": true
   },
   "outputs": [],
   "source": [
    "# Run measurement\n",
    "measureTask.run(catalog, exposure)"
   ]
  },
  {
   "cell_type": "code",
   "execution_count": 18,
   "metadata": {
    "collapsed": true
   },
   "outputs": [],
   "source": [
    "# Display the image with measured 2nd-moment ellipses\n",
    "n = len(catalog) + 1\n",
    "display = lsst.afw.display.getDisplay(frame=n)\n",
    "display.setMaskTransparency(100)\n",
    "display.mtv(exposure)\n",
    "with display.Buffering():\n",
    "    for record in catalog:\n",
    "        display.dot(record.getShape(), record.getX(), record.getY(), origin=lsst.afw.image.PARENT)\n",
    "n += 1"
   ]
  },
  {
   "cell_type": "code",
   "execution_count": 19,
   "metadata": {
    "collapsed": false
   },
   "outputs": [],
   "source": [
    "# Run NoiseReplacer and display the intermediate images\n",
    "n = len(catalog) + 2\n",
    "exposureCopy = exposure.clone()\n",
    "fpDict = {record.getId(): (record.getParent(), record.getFootprint()) for record in catalog}\n",
    "replacer = lsst.meas.base.NoiseReplacer(lsst.meas.base.NoiseReplacerConfig(), exposureCopy, fpDict)\n",
    "display = lsst.afw.display.getDisplay(frame=n)\n",
    "display.setMaskTransparency(100)\n",
    "display.mtv(exposureCopy)\n",
    "n += 1\n",
    "for record in catalog:\n",
    "    replacer.insertSource(record.getId())\n",
    "    display = lsst.afw.display.getDisplay(frame=n)\n",
    "    display.setMaskTransparency(100)\n",
    "    display.mtv(exposureCopy)\n",
    "    replacer.removeSource(record.getId())\n",
    "    n += 1"
   ]
  },
  {
   "cell_type": "code",
   "execution_count": null,
   "metadata": {
    "collapsed": true
   },
   "outputs": [],
   "source": []
  }
 ],
 "metadata": {
  "kernelspec": {
   "display_name": "Python 2",
   "language": "python",
   "name": "python2"
  },
  "language_info": {
   "codemirror_mode": {
    "name": "ipython",
    "version": 2
   },
   "file_extension": ".py",
   "mimetype": "text/x-python",
   "name": "python",
   "nbconvert_exporter": "python",
   "pygments_lexer": "ipython2",
   "version": "2.7.6"
  }
 },
 "nbformat": 4,
 "nbformat_minor": 0
}
