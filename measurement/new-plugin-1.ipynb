{
 "cells": [
  {
   "cell_type": "code",
   "execution_count": 1,
   "metadata": {
    "collapsed": true
   },
   "outputs": [],
   "source": [
    "import numpy\n",
    "import lsst.meas.base\n",
    "import lsst.pex.config\n",
    "import lsst.afw.table\n",
    "import lsst.meas.algorithms\n",
    "import lsst.meas.deblender"
   ]
  },
  {
   "cell_type": "code",
   "execution_count": 2,
   "metadata": {
    "collapsed": false
   },
   "outputs": [],
   "source": [
    "class BoxFluxConfig(lsst.meas.base.SingleFramePluginConfig):\n",
    "    \n",
    "    width = lsst.pex.config.Field(\n",
    "        dtype=int, default=50,\n",
    "        doc=\"approximate width of rectangular aperture\"\n",
    "    )\n",
    "\n",
    "    height = lsst.pex.config.Field(\n",
    "        dtype=int, default=50,\n",
    "        doc=\"approximate height of rectangular aperture\"\n",
    "    )\n",
    "\n",
    "    \n",
    "@lsst.meas.base.register(\"ext_BoxFlux\")\n",
    "class BoxFluxPlugin(lsst.meas.base.SingleFramePlugin):\n",
    "\n",
    "    ConfigClass = BoxFluxConfig\n",
    "    \n",
    "    \n",
    "    @classmethod\n",
    "    def getExecutionOrder(cls):\n",
    "        return cls.FLUX_ORDER\n",
    "\n",
    "    \n",
    "    def __init__(self, config, name, schema, metadata):\n",
    "        lsst.meas.base.SingleFramePlugin.__init__(self, config, name, schema, metadata)\n",
    "\n",
    "        # Get a FunctorKey that can quickly look up the \"blessed\" centroid value.\n",
    "        self.centroidKey = lsst.afw.table.Point2DKey(schema[\"slot_Centroid\"])\n",
    "\n",
    "        # Add some fields for our outputs, and save their Keys.\n",
    "        doc = \"flux in a {0.width} x {0.height} rectangle\".format(self.config)\n",
    "        self.fluxKey = schema.addField(\n",
    "            schema.join(name, \"flux\"), type=float, units=\"dn\", doc=doc\n",
    "        )\n",
    "        self.fluxSigmaKey = schema.addField(\n",
    "            schema.join(name, \"fluxSigma\"), type=float, units=\"dn\",\n",
    "            doc=\"1-sigma uncertainty for BoxFlux\"\n",
    "        )\n",
    "    \n",
    "    \n",
    "    def measure(self, measRecord, exposure):\n",
    "\n",
    "        centroid = measRecord.get(self.centroidKey)\n",
    "    \n",
    "        # Create a single-pixel box\n",
    "        point = lsst.afw.geom.Point2I(centroid)\n",
    "        box = lsst.afw.geom.Box2I(point, point)\n",
    "\n",
    "        # Grow the box in the desired size\n",
    "        box.grow(lsst.afw.geom.Extent2I(self.config.width // 2, self.config.height // 2))\n",
    "\n",
    "        # Horrible syntax to create a subimage.  Can't use [] because it doesn't pay\n",
    "        # attention to xy0 :-(\n",
    "        subMaskedImage = exposure.getMaskedImage().Factory(\n",
    "            exposure.getMaskedImage(),\n",
    "            box,\n",
    "            lsst.afw.image.PARENT\n",
    "        )\n",
    "\n",
    "        # compute the flux by extracting and summing NumPy arrays.\n",
    "        flux = subMaskedImage.getImage().getArray().sum()\n",
    "        fluxSigma = subMaskedImage.getVariance().getArray().sum()**0.5\n",
    "\n",
    "        measRecord[self.fluxKey] = flux\n",
    "        measRecord[self.fluxSigmaKey] = fluxSigma"
   ]
  },
  {
   "cell_type": "code",
   "execution_count": 3,
   "metadata": {
    "collapsed": false
   },
   "outputs": [],
   "source": [
    "schema = lsst.afw.table.SourceTable.makeMinimalSchema()\n",
    "detectConfig = lsst.meas.algorithms.SourceDetectionConfig()\n",
    "detectConfig.returnOriginalFootprints = False\n",
    "detectConfig.thresholdValue = 10\n",
    "detectTask = lsst.meas.algorithms.SourceDetectionTask(config=detectConfig, schema=schema)\n",
    "deblendTask = lsst.meas.deblender.SourceDeblendTask(schema=schema)"
   ]
  },
  {
   "cell_type": "code",
   "execution_count": 4,
   "metadata": {
    "collapsed": false
   },
   "outputs": [],
   "source": [
    "measureConfig = lsst.meas.base.SingleFrameMeasurementConfig()\n",
    "measureConfig.plugins.names.add(\"ext_BoxFlux\")\n",
    "measureTask = lsst.meas.base.SingleFrameMeasurementTask(config=measureConfig, schema=schema)"
   ]
  },
  {
   "cell_type": "code",
   "execution_count": 5,
   "metadata": {
    "collapsed": false
   },
   "outputs": [
    {
     "name": "stderr",
     "output_type": "stream",
     "text": [
      "Traceback (most recent call last):\n",
      "  File \"/home/jbosch/LSST/master/meas_base/python/lsst/meas/base/baseMeasurement.py\", line 333, in callMeasure\n",
      "    plugin.measure(measRecord, *args, **kwds)\n",
      "  File \"<ipython-input-2-d04cc2eca069>\", line 58, in measure\n",
      "    lsst.afw.image.PARENT\n",
      "  File \"/home/jbosch/LSST/master/afw/python/lsst/afw/image/imageLib.py\", line 7274, in Factory\n",
      "    return MaskedImageF(*args)\n",
      "  File \"/home/jbosch/LSST/master/afw/python/lsst/afw/image/imageLib.py\", line 6988, in __init__\n",
      "    this = _imageLib.new_MaskedImageF(*args)\n",
      "LengthError: \n",
      "  File \"src/image/Image.cc\", line 92, in static lsst::afw::image::ImageBase<PixelT>::_view_t lsst::afw::image::ImageBase<PixelT>::_makeSubView(const Extent2I&, const Extent2I&, const _view_t&) [with PixelT = float; lsst::afw::image::ImageBase<PixelT>::_view_t = boost::gil::image_view<boost::gil::memory_based_2d_locator<boost::gil::memory_based_step_iterator<boost::gil::pixel<float, boost::gil::layout<boost::mpl::vector1<boost::gil::gray_color_t> > >*> > >; lsst::afw::geom::Extent2I = lsst::afw::geom::Extent<int, 2>]\n",
      "    Box2I(Point2I(-14,-15),Extent2I(51,51)) doesn't fit in image 81x81 {0}\n",
      "lsst::pex::exceptions::LengthError: 'Box2I(Point2I(-14,-15),Extent2I(51,51)) doesn't fit in image 81x81'\n",
      "\n"
     ]
    },
    {
     "ename": "NotImplementedError",
     "evalue": "The algorithm 'BoxFluxPlugin' thinks it cannot fail, but it did; please report this as a bug (the full traceback is above).",
     "output_type": "error",
     "traceback": [
      "\u001b[1;31m---------------------------------------------------------------------------\u001b[0m",
      "\u001b[1;31mNotImplementedError\u001b[0m                       Traceback (most recent call last)",
      "\u001b[1;32m<ipython-input-5-a1ff33cf2822>\u001b[0m in \u001b[0;36m<module>\u001b[1;34m()\u001b[0m\n\u001b[0;32m      4\u001b[0m \u001b[0mcatalog\u001b[0m \u001b[1;33m=\u001b[0m \u001b[0mdetectResult\u001b[0m\u001b[1;33m.\u001b[0m\u001b[0msources\u001b[0m\u001b[1;33m\u001b[0m\u001b[0m\n\u001b[0;32m      5\u001b[0m \u001b[0mdeblendTask\u001b[0m\u001b[1;33m.\u001b[0m\u001b[0mrun\u001b[0m\u001b[1;33m(\u001b[0m\u001b[0mexposure\u001b[0m\u001b[1;33m,\u001b[0m \u001b[0mcatalog\u001b[0m\u001b[1;33m,\u001b[0m \u001b[0mpsf\u001b[0m\u001b[1;33m=\u001b[0m\u001b[0mexposure\u001b[0m\u001b[1;33m.\u001b[0m\u001b[0mgetPsf\u001b[0m\u001b[1;33m(\u001b[0m\u001b[1;33m)\u001b[0m\u001b[1;33m)\u001b[0m\u001b[1;33m\u001b[0m\u001b[0m\n\u001b[1;32m----> 6\u001b[1;33m \u001b[0mmeasureTask\u001b[0m\u001b[1;33m.\u001b[0m\u001b[0mrun\u001b[0m\u001b[1;33m(\u001b[0m\u001b[0mcatalog\u001b[0m\u001b[1;33m,\u001b[0m \u001b[0mexposure\u001b[0m\u001b[1;33m)\u001b[0m\u001b[1;33m\u001b[0m\u001b[0m\n\u001b[0m",
      "\u001b[1;32m/home/jbosch/LSST/master/meas_base/python/lsst/meas/base/sfm.pyc\u001b[0m in \u001b[0;36mrun\u001b[1;34m(self, measCat, exposure, noiseImage, exposureId, beginOrder, endOrder, allowApCorr)\u001b[0m\n\u001b[0;32m    313\u001b[0m             \u001b[1;31m# Then insert the parent footprint, and measure that\u001b[0m\u001b[1;33m\u001b[0m\u001b[1;33m\u001b[0m\u001b[0m\n\u001b[0;32m    314\u001b[0m             \u001b[0mnoiseReplacer\u001b[0m\u001b[1;33m.\u001b[0m\u001b[0minsertSource\u001b[0m\u001b[1;33m(\u001b[0m\u001b[0mmeasParentRecord\u001b[0m\u001b[1;33m.\u001b[0m\u001b[0mgetId\u001b[0m\u001b[1;33m(\u001b[0m\u001b[1;33m)\u001b[0m\u001b[1;33m)\u001b[0m\u001b[1;33m\u001b[0m\u001b[0m\n\u001b[1;32m--> 315\u001b[1;33m             \u001b[0mself\u001b[0m\u001b[1;33m.\u001b[0m\u001b[0mcallMeasure\u001b[0m\u001b[1;33m(\u001b[0m\u001b[0mmeasParentRecord\u001b[0m\u001b[1;33m,\u001b[0m \u001b[0mexposure\u001b[0m\u001b[1;33m,\u001b[0m \u001b[0mbeginOrder\u001b[0m\u001b[1;33m=\u001b[0m\u001b[0mbeginOrder\u001b[0m\u001b[1;33m,\u001b[0m \u001b[0mendOrder\u001b[0m\u001b[1;33m=\u001b[0m\u001b[0mendOrder\u001b[0m\u001b[1;33m)\u001b[0m\u001b[1;33m\u001b[0m\u001b[0m\n\u001b[0m\u001b[0;32m    316\u001b[0m             \u001b[1;31m# Finally, process both the parent and the child set through measureN\u001b[0m\u001b[1;33m\u001b[0m\u001b[1;33m\u001b[0m\u001b[0m\n\u001b[0;32m    317\u001b[0m             self.callMeasureN(measParentCat[parentIdx:parentIdx+1], exposure,\n",
      "\u001b[1;32m/home/jbosch/LSST/master/meas_base/python/lsst/meas/base/baseMeasurement.pyc\u001b[0m in \u001b[0;36mcallMeasure\u001b[1;34m(self, measRecord, *args, **kwds)\u001b[0m\n\u001b[0;32m    339\u001b[0m                 self.log.warn(\"Error in %s.measure on record %s: %s\"\n\u001b[0;32m    340\u001b[0m                               % (plugin.name, measRecord.getId(), error))\n\u001b[1;32m--> 341\u001b[1;33m                 \u001b[0mplugin\u001b[0m\u001b[1;33m.\u001b[0m\u001b[0mfail\u001b[0m\u001b[1;33m(\u001b[0m\u001b[0mmeasRecord\u001b[0m\u001b[1;33m)\u001b[0m\u001b[1;33m\u001b[0m\u001b[0m\n\u001b[0m\u001b[0;32m    342\u001b[0m \u001b[1;33m\u001b[0m\u001b[0m\n\u001b[0;32m    343\u001b[0m     \u001b[1;32mdef\u001b[0m \u001b[0mcallMeasureN\u001b[0m\u001b[1;33m(\u001b[0m\u001b[0mself\u001b[0m\u001b[1;33m,\u001b[0m \u001b[0mmeasCat\u001b[0m\u001b[1;33m,\u001b[0m \u001b[1;33m*\u001b[0m\u001b[0margs\u001b[0m\u001b[1;33m,\u001b[0m \u001b[1;33m**\u001b[0m\u001b[0mkwds\u001b[0m\u001b[1;33m)\u001b[0m\u001b[1;33m:\u001b[0m\u001b[1;33m\u001b[0m\u001b[0m\n",
      "\u001b[1;32m/home/jbosch/LSST/master/meas_base/python/lsst/meas/base/baseMeasurement.pyc\u001b[0m in \u001b[0;36mfail\u001b[1;34m(self, measRecord, error)\u001b[0m\n\u001b[0;32m    124\u001b[0m                    \u001b[1;34m\"please report this as a bug (the full traceback is above).\"\u001b[0m\u001b[1;33m\u001b[0m\u001b[0m\n\u001b[0;32m    125\u001b[0m                    % self.__class__.__name__)\n\u001b[1;32m--> 126\u001b[1;33m         \u001b[1;32mraise\u001b[0m \u001b[0mNotImplementedError\u001b[0m\u001b[1;33m(\u001b[0m\u001b[0mmessage\u001b[0m\u001b[1;33m)\u001b[0m\u001b[1;33m\u001b[0m\u001b[0m\n\u001b[0m\u001b[0;32m    127\u001b[0m \u001b[1;33m\u001b[0m\u001b[0m\n\u001b[0;32m    128\u001b[0m     \u001b[1;33m@\u001b[0m\u001b[0mstaticmethod\u001b[0m\u001b[1;33m\u001b[0m\u001b[0m\n",
      "\u001b[1;31mNotImplementedError\u001b[0m: The algorithm 'BoxFluxPlugin' thinks it cannot fail, but it did; please report this as a bug (the full traceback is above)."
     ]
    }
   ],
   "source": [
    "exposure = lsst.afw.image.ExposureF(\"coadd.fits\") \n",
    "table = lsst.afw.table.SourceTable.make(schema)\n",
    "detectResult = detectTask.run(table, exposure)\n",
    "catalog = detectResult.sources\n",
    "deblendTask.run(exposure, catalog, psf=exposure.getPsf())\n",
    "measureTask.run(catalog, exposure)"
   ]
  },
  {
   "cell_type": "code",
   "execution_count": null,
   "metadata": {
    "collapsed": true
   },
   "outputs": [],
   "source": []
  }
 ],
 "metadata": {
  "kernelspec": {
   "display_name": "Python 2",
   "language": "python",
   "name": "python2"
  },
  "language_info": {
   "codemirror_mode": {
    "name": "ipython",
    "version": 2
   },
   "file_extension": ".py",
   "mimetype": "text/x-python",
   "name": "python",
   "nbconvert_exporter": "python",
   "pygments_lexer": "ipython2",
   "version": "2.7.6"
  }
 },
 "nbformat": 4,
 "nbformat_minor": 0
}
